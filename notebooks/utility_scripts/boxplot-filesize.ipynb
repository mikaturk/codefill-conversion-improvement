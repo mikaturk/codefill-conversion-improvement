{
 "cells": [
  {
   "cell_type": "code",
   "execution_count": 2,
   "metadata": {},
   "outputs": [],
   "source": [
    "from matplotlib import pyplot as plt\n",
    "import json\n",
    "import numpy as np\n",
    "import os"
   ]
  },
  {
   "cell_type": "code",
   "execution_count": 22,
   "metadata": {},
   "outputs": [],
   "source": [
    "# Opening JSON file\n",
    "f = open('/mnt/mturk/cf_sample_data/times_all_lt_1mb.json')\n",
    "time_data = json.load(f)\n",
    "f.close()"
   ]
  },
  {
   "cell_type": "code",
   "execution_count": 27,
   "metadata": {},
   "outputs": [],
   "source": [
    "microseconds = np.array([x[1] for x in time_data if x[2] == \"s\"])\n",
    "seconds = microseconds / 1e6"
   ]
  },
  {
   "cell_type": "code",
   "execution_count": 29,
   "metadata": {},
   "outputs": [
    {
     "name": "stderr",
     "output_type": "stream",
     "text": [
      "/tmp/ipykernel_980789/3646684432.py:6: MatplotlibDeprecationWarning: savefig() got unexpected keyword argument \"figsize\" which is no longer supported as of 3.3 and will become an error in 3.6\n",
      "  plt.savefig('execution-time-distribution.png', figsize=(4,4), dpi=300)\n"
     ]
    },
    {
     "data": {
      "image/png": "[encoded data removed]",
      "text/plain": [
       "<Figure size 432x288 with 1 Axes>"
      ]
     },
     "metadata": {
      "needs_background": "light"
     },
     "output_type": "display_data"
    }
   ],
   "source": [
    "plt.ylabel('Execution Time (Seconds)')\n",
    "plt.xlabel('TU Dataset')\n",
    "plt.yscale('log')\n",
    "plt.xticks(color='#00000000')\n",
    "plt.boxplot(seconds, whis = (0,100))\n",
    "plt.savefig('execution-time-distribution.png', figsize=(4,4), dpi=300)"
   ]
  },
  {
   "cell_type": "code",
   "execution_count": 26,
   "metadata": {},
   "outputs": [
    {
     "data": {
      "text/plain": [
       "2"
      ]
     },
     "execution_count": 26,
     "metadata": {},
     "output_type": "execute_result"
    }
   ],
   "source": [
    "sum(seconds > 100)"
   ]
  },
  {
   "cell_type": "code",
   "execution_count": 5,
   "metadata": {},
   "outputs": [
    {
     "data": {
      "text/plain": [
       "{'whiskers': [<matplotlib.lines.Line2D at 0x7f48cf990820>,\n",
       "  <matplotlib.lines.Line2D at 0x7f48cf990af0>],\n",
       " 'caps': [<matplotlib.lines.Line2D at 0x7f48cf990dc0>,\n",
       "  <matplotlib.lines.Line2D at 0x7f48cf92e0d0>],\n",
       " 'boxes': [<matplotlib.lines.Line2D at 0x7f48cf990550>],\n",
       " 'medians': [<matplotlib.lines.Line2D at 0x7f48cf92e3a0>],\n",
       " 'fliers': [<matplotlib.lines.Line2D at 0x7f48cf92e670>],\n",
       " 'means': []}"
      ]
     },
     "execution_count": 5,
     "metadata": {},
     "output_type": "execute_result"
    },
    {
     "data": {
      "image/png": "[encoded data removed]",
      "text/plain": [
       "<Figure size 432x288 with 1 Axes>"
      ]
     },
     "metadata": {
      "needs_background": "light"
     },
     "output_type": "display_data"
    }
   ],
   "source": [
    "filtered_seconds = seconds[seconds < 0.2]\n",
    "plt.boxplot(filtered_seconds, whis = (0,100))"
   ]
  },
  {
   "cell_type": "code",
   "execution_count": 3,
   "metadata": {},
   "outputs": [],
   "source": [
    "pretrain_location = '/mnt/mturk/cf_sample_data/deduplicated_code_fill_pretrain'\n",
    "sizes = []\n",
    "linecounts = []\n",
    "for elem in os.scandir(pretrain_location):\n",
    "    size = os.path.getsize(elem)\n",
    "    sizes.append([elem.name,size])\n",
    "    # if size > 1_00_000:\n",
    "        \n",
    "    #     with open(elem, 'r', encoding=\"latin-1\") as fp:\n",
    "    #         lines = len(fp.readlines())\n",
    "    #         if lines < 10:\n",
    "    #             print(elem.name, lines, size)\n",
    "    #         linecounts.append(lines)\n",
    "\n",
    "# np_lc = np.array(linecounts)\n",
    "\n",
    "# np.max(np_lc), np.min(np_lc), np.median(np_lc), np.average(np_lc)\n",
    "\n",
    "\n"
   ]
  },
  {
   "cell_type": "code",
   "execution_count": 7,
   "metadata": {},
   "outputs": [],
   "source": [
    "np_sizes = np.array([x[1] for x in sizes])\n"
   ]
  },
  {
   "cell_type": "code",
   "execution_count": 5,
   "metadata": {},
   "outputs": [
    {
     "data": {
      "text/plain": [
       "616"
      ]
     },
     "execution_count": 5,
     "metadata": {},
     "output_type": "execute_result"
    }
   ],
   "source": [
    "sum(np_sizes > 1e6)\n"
   ]
  },
  {
   "cell_type": "code",
   "execution_count": 20,
   "metadata": {},
   "outputs": [
    {
     "name": "stderr",
     "output_type": "stream",
     "text": [
      "/tmp/ipykernel_980789/3580858677.py:11: MatplotlibDeprecationWarning: savefig() got unexpected keyword argument \"figsize\" which is no longer supported as of 3.3 and will become an error in 3.6\n",
      "  plt.savefig('file-size-distribution.png', figsize=(4,4), dpi=300)\n"
     ]
    },
    {
     "data": {
      "image/png": "[encoded data removed]",
      "text/plain": [
       "<Figure size 432x288 with 1 Axes>"
      ]
     },
     "metadata": {
      "needs_background": "light"
     },
     "output_type": "display_data"
    }
   ],
   "source": [
    "size_bytes_filtered = np_sizes[np_sizes < 1_000_000]\n",
    "plt.ylabel('File Size (Bytes)')\n",
    "plt.xlabel('TU Dataset')\n",
    "plt.yscale('log')\n",
    "# plt.ylim([0, 1e6])\n",
    "ax = plt.gca()\n",
    "# ax.axes.xaxis.set_ticklabels([])\n",
    "plt.xticks(color='#00000000')\n",
    "plt.boxplot(size_bytes_filtered, whis = (0,100))\n",
    "# plt.figure()\n",
    "plt.\n",
    "plt.savefig('file-size-distribution.png', figsize=(4,4), dpi=300)"
   ]
  }
 ],
 "metadata": {
  "interpreter": {
   "hash": "4452fc612f183497624d7acf047d472642f0528c8bd68ee3f9dd18b786f419ef"
  },
  "kernelspec": {
   "display_name": "Python 3.8.10 ('env-cf')",
   "language": "python",
   "name": "python3"
  },
  "language_info": {
   "codemirror_mode": {
    "name": "ipython",
    "version": 3
   },
   "file_extension": ".py",
   "mimetype": "text/x-python",
   "name": "python",
   "nbconvert_exporter": "python",
   "pygments_lexer": "ipython3",
   "version": "3.8.10"
  },
  "orig_nbformat": 4
 },
 "nbformat": 4,
 "nbformat_minor": 2
}
