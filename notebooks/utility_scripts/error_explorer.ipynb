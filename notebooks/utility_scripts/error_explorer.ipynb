{
 "cells": [
  {
   "cell_type": "markdown",
   "metadata": {},
   "source": [
    "### This file is for future work, to discover where the conversion fails and improve the success rate of the conversion."
   ]
  },
  {
   "cell_type": "code",
   "execution_count": null,
   "metadata": {},
   "outputs": [],
   "source": [
    "import json\n",
    "import re"
   ]
  },
  {
   "cell_type": "code",
   "execution_count": null,
   "metadata": {},
   "outputs": [],
   "source": [
    "f = open('/mnt/mturk/cf_sample_data/times_all_lt_1mb.json')\n",
    "data = json.load(f)\n",
    "f.close()"
   ]
  },
  {
   "cell_type": "code",
   "execution_count": null,
   "metadata": {},
   "outputs": [],
   "source": [
    "failing = list(filter(lambda x: x[2] == \"f\", data))\n",
    "regexes = {\n",
    "  \"syntax_py2\": [re.compile(r\"Missing parentheses in call to \\'print\\'\"),\n",
    "    re.compile(r\"Missing parentheses in call to \\'exec\\'\"),\n",
    "    re.compile(r\"except .+,.+:\"),\n",
    "    re.compile(r\"SyntaxError: leading zeros in decimal integer literals are not permitted; use an 0o prefix for octal integers\"),\n",
    "    re.compile(r\"SyntaxError: cannot assign to True\"),\n",
    "    re.compile(r\"print +[^(](.|\\n)+SyntaxError: invalid syntax\")\n",
    "  ],\n",
    "  \"syntax_encoding\": [re.compile(r\"SyntaxError: unknown encoding: \")],\n",
    "  \"unicodedecode\": [re.compile(r\"UnicodeDecodeError\")],\n",
    "  \"tab\": [re.compile(r\"TabError\")],\n",
    "  \"invalid_char_ident\": [re.compile(r\"SyntaxError: invalid character in identifier\")],\n",
    "  \"indentation\": [re.compile(r\"IndentationError\")],\n",
    "  \"syntax_generic\": [re.compile(r\"SyntaxError: invalid syntax\")],\n",
    "  \"norm_none\": [re.compile(r\"\\'NoneType\\' object has no attribute \\'lower\\'\")]\n",
    "}\n",
    "\n",
    "outputs = dict((k,[]) for k in regexes.keys())\n",
    "outputs[\"other\"] = []\n",
    "\n",
    "for item in failing:\n",
    "  (file_name, exec_time, status, error) = item\n",
    "  matched = False\n",
    "  for cat, reg_list in regexes.items():\n",
    "    for reg in reg_list:\n",
    "      if(not matched and reg.search(error)):\n",
    "        outputs[cat].append(item)\n",
    "        matched = True\n",
    "  if not matched: \n",
    "    outputs[\"other\"].append(item)\n",
    "\n",
    "for cat, o_list in outputs.items():\n",
    "  print(\"cat: \"+cat)\n",
    "  print(\"item len: \"+str(len(o_list)))\n",
    "\n",
    "outputs[\"norm_none\"][:20], \n",
    "# regexes.items()\n",
    "\n"
   ]
  }
 ],
 "metadata": {
  "interpreter": {
   "hash": "4452fc612f183497624d7acf047d472642f0528c8bd68ee3f9dd18b786f419ef"
  },
  "kernelspec": {
   "display_name": "Python 3.8.10 ('env-cf')",
   "language": "python",
   "name": "python3"
  },
  "language_info": {
   "codemirror_mode": {
    "name": "ipython",
    "version": 3
   },
   "file_extension": ".py",
   "mimetype": "text/x-python",
   "name": "python",
   "nbconvert_exporter": "python",
   "pygments_lexer": "ipython3",
   "version": "3.8.10"
  },
  "orig_nbformat": 4
 },
 "nbformat": 4,
 "nbformat_minor": 2
}
