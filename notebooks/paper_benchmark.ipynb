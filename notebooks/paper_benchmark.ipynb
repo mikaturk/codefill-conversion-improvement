{
 "cells": [
  {
   "cell_type": "code",
   "execution_count": null,
   "metadata": {},
   "outputs": [],
   "source": [
    "import numpy as np\n",
    "import pandas as pd\n",
    "import matplotlib.pyplot as plt\n",
    "import random\n",
    "import os\n",
    "import json\n",
    "from typing import List, Dict, Callable\n",
    "from cf_shared.convert_previous import convert_optional_old, convert_optional_original\n",
    "from cf_shared.convert import convert_optional, convert_paths, ConversionResult\n"
   ]
  },
  {
   "cell_type": "code",
   "execution_count": null,
   "metadata": {},
   "outputs": [],
   "source": [
    "# Change current directory to scratch disk with all the data on it\n",
    "os.chdir('/mnt/mturk/cf_sample_data/')\n",
    "\n",
    "# Make sure to download the following zip and the files into the folder below\n",
    "# https://huggingface.co/rgismondi/python-50k-dedup/blob/main/pretrain_dataset.zip\n",
    "PY_SOURCE_LOCATION = './deduplicated_code_fill_pretrain/'\n",
    "\n",
    "# Location to use for the output of the conversion for the benchmarks.\n",
    "BENCHMARKS_LOCATION = './paper-benchmarks'\n",
    "\n",
    "# Location where the figures will be placed\n",
    "FIGURES_LOCATION = '/home/mturk/rp/codefill/notebooks/'"
   ]
  },
  {
   "cell_type": "code",
   "execution_count": null,
   "metadata": {},
   "outputs": [],
   "source": [
    "name_size_pairs = []\n",
    "for elem in os.scandir(PY_SOURCE_LOCATION):\n",
    "    size = os.path.getsize(elem)\n",
    "    name_size_pairs.append([elem.name,size])\n",
    "\n",
    "df_sizes = pd.DataFrame(name_size_pairs, columns=['name','size'])"
   ]
  },
  {
   "cell_type": "code",
   "execution_count": null,
   "metadata": {},
   "outputs": [],
   "source": [
    "# Arbitrary number, for consistency across runs\n",
    "RANDOM_SEED = 42\n",
    "\n",
    "conversion_functions: Dict[str, Callable[[str, str], ConversionResult]] = {\n",
    "  'new': convert_optional,\n",
    "  'second': convert_optional_old,\n",
    "  'original': convert_optional_original\n",
    "}\n",
    "\n",
    "# Variables for benchmarking specific part of the dataset\n",
    "# min_fs and max_fs are file sizes in bytes\n",
    "BENCHMARKS = {\n",
    "  'under-1k': {\n",
    "    'file_amount': 1000,\n",
    "    'min_fs': 400,\n",
    "    'max_fs': 600,\n",
    "    'conversion_functions': ['new', 'second', 'original'],\n",
    "    'label': '400-600',\n",
    "    'ytickformat': '{:,.0f}',\n",
    "  },\n",
    "  'under-10k': {\n",
    "    'file_amount': 1000,\n",
    "    'min_fs': 4_000,\n",
    "    'max_fs': 6_000,\n",
    "    'conversion_functions': ['new', 'second', 'original'],\n",
    "    'label': '4K-6K',\n",
    "    'ytickformat': '{:,.1f}'\n",
    "  },\n",
    "  'under-100k': {\n",
    "    'file_amount': 1000,\n",
    "    'min_fs': 40_000,\n",
    "    'max_fs': 60_000,\n",
    "    'conversion_functions': ['new', 'second'],\n",
    "    'label': '40K-60K',\n",
    "    'ytickformat': '{:,.0f}'\n",
    "  },\n",
    "  'under-1000k': {\n",
    "    'file_amount': 500,\n",
    "    'min_fs': 400_000,\n",
    "    'max_fs': 600_000,\n",
    "    'conversion_functions': ['new', 'second'],\n",
    "    'label': '400K-600K',\n",
    "    'ytickformat': '{:,.0f}'\n",
    "  }\n",
    "}"
   ]
  },
  {
   "cell_type": "code",
   "execution_count": null,
   "metadata": {},
   "outputs": [],
   "source": [
    "files = {}\n",
    "\n",
    "for name, config in BENCHMARKS.items():\n",
    "  files_in_range = df_sizes[(df_sizes['size'] >= config['min_fs']) & (df_sizes['size'] < config['max_fs'])]\n",
    "  all_files = list(files_in_range.itertuples(index=False))\n",
    "  random.seed(RANDOM_SEED)\n",
    "  files[name] = random.sample(all_files, config['file_amount'])"
   ]
  },
  {
   "cell_type": "code",
   "execution_count": null,
   "metadata": {},
   "outputs": [],
   "source": [
    "sum((df_sizes['size'] >= 400000) & (df_sizes['size'] < 600000))"
   ]
  },
  {
   "cell_type": "code",
   "execution_count": null,
   "metadata": {},
   "outputs": [],
   "source": [
    "filesizes = {}\n",
    "for name, config in BENCHMARKS.items():\n",
    "  filesizes[name] = np.array([file.size for file in files[name]])"
   ]
  },
  {
   "cell_type": "code",
   "execution_count": null,
   "metadata": {},
   "outputs": [],
   "source": [
    "extra_graph_space_factor = 1.02\n",
    "\n",
    "fig, axs = plt.subplots(1, len(BENCHMARKS.keys()), figsize=(20, 3), sharey=False)\n",
    "for index, (name, config) in enumerate(BENCHMARKS.items()):\n",
    "  axs[index].boxplot(filesizes[name], sym='', widths=0.4)\n",
    "  # axs[index].set_xticklabels([name])\n",
    "  axs[index].set_xticklabels([config['label']])\n",
    "  # axs[index]\n",
    "  if filesizes[name].max() > 1000:\n",
    "    ylabels = [config['ytickformat'].format(x) + 'K' for x in axs[index].get_yticks()/1000]\n",
    "    axs[index].set_yticklabels(ylabels)\n",
    "    axs[index].set_ylim(config['min_fs']/extra_graph_space_factor, config['max_fs']*extra_graph_space_factor)\n",
    "    \n",
    "    \n",
    "\n",
    "fig.set_figwidth(8)\n",
    "\n",
    "plt.subplots_adjust(left=0.1,\n",
    "                    bottom=0.1, \n",
    "                    right=0.9, \n",
    "                    top=0.9, \n",
    "                    wspace=0.4, \n",
    "                    hspace=0.4)\n",
    "fig.suptitle('File sizes of the datasets')\n",
    "\n",
    "fig.savefig(os.path.join(FIGURES_LOCATION, 'filesizes.png'), dpi=300)"
   ]
  },
  {
   "cell_type": "code",
   "execution_count": null,
   "metadata": {},
   "outputs": [],
   "source": [
    "results: Dict[str, Dict[str, List[ConversionResult]]] = {}"
   ]
  },
  {
   "cell_type": "code",
   "execution_count": null,
   "metadata": {},
   "outputs": [],
   "source": [
    "for name, config in BENCHMARKS.items():\n",
    "  results[name] = {}\n",
    "  \n",
    "  for conv_name in config['conversion_functions']:\n",
    "    times_json = os.path.join(BENCHMARKS_LOCATION, f\"{name}-{conv_name}.json\")\n",
    "    with open(times_json, 'r') as fd:\n",
    "      results[name][conv_name] = json.load(fd)"
   ]
  },
  {
   "cell_type": "code",
   "execution_count": null,
   "metadata": {},
   "outputs": [],
   "source": [
    "\n",
    "for name, config in BENCHMARKS.items():\n",
    "  results[name] = {}\n",
    "  \n",
    "  for conv_name in config['conversion_functions']:\n",
    "    print(f\"Dataset: {name} Conversion: {conv_name}\")\n",
    "    converted_path = os.path.join(BENCHMARKS_LOCATION, name, conv_name)\n",
    "    if not os.path.exists(converted_path):\n",
    "      os.makedirs(converted_path)\n",
    "    \n",
    "    conversion_results = convert_paths(\n",
    "      [os.path.join(PY_SOURCE_LOCATION, file.name) for file in files[name]], \n",
    "      converted_path,\n",
    "      # Set times_json to None if you do not wish to write results to disk\n",
    "      times_json=os.path.join(BENCHMARKS_LOCATION, f\"{name}-{conv_name}.json\"),\n",
    "      n_threads=20,\n",
    "      convert_optional_function=conversion_functions[conv_name]\n",
    "    )\n",
    "    results[name][conv_name] = conversion_results\n",
    "    \n"
   ]
  },
  {
   "cell_type": "code",
   "execution_count": null,
   "metadata": {},
   "outputs": [],
   "source": [
    "[len(l) for l in results['under-1k'].values()]"
   ]
  },
  {
   "cell_type": "code",
   "execution_count": null,
   "metadata": {},
   "outputs": [],
   "source": []
  },
  {
   "cell_type": "code",
   "execution_count": null,
   "metadata": {},
   "outputs": [],
   "source": [
    "# Times of all successful conversions in microseconds (int) by dataset and conversion name\n",
    "times_success: Dict[str, Dict[str, List[int]]] = {}\n",
    "\n",
    "for name, config in BENCHMARKS.items():\n",
    "  times_success[name] = {}\n",
    "  \n",
    "  for conv_name in config['conversion_functions']:\n",
    "    successful_conversions = filter(lambda x: x[3] == \"s\", results[name][conv_name])\n",
    "    times_success[name][conv_name] = np.array(list(map(lambda x: x[2], successful_conversions)))\n"
   ]
  },
  {
   "cell_type": "code",
   "execution_count": null,
   "metadata": {},
   "outputs": [],
   "source": [
    "total_times = {}\n",
    "\n",
    "for name, config in BENCHMARKS.items():\n",
    "  total_times[name] = {}\n",
    "  for conv_name in ['second', 'new']:\n",
    "    print(f\"Dataset: {name} Conversion: {conv_name}\")\n",
    "    n_successful_conversions = sum([1 for el in results[name][conv_name] if el[3] == \"s\"])\n",
    "\n",
    "    print(f\"  Amount of successful conversions: {n_successful_conversions} out of {len(results[name][conv_name])}\")\n",
    "    total_time = sum([res[2] for res in results[name][conv_name]]) / 1e6\n",
    "    total_times[name][conv_name] = total_time\n",
    "    print(f\"  Time taken: {total_time} seconds\")\n",
    "  \n",
    "  print(\"Speedup: {:.2f}x\".format(total_times[name]['second']/total_times[name]['new']))"
   ]
  },
  {
   "cell_type": "code",
   "execution_count": null,
   "metadata": {},
   "outputs": [],
   "source": [
    "# Multi column bar graph adapted from https://stackoverflow.com/a/20132614/8209335\n",
    "\n",
    "def set_box_color(bp, color):\n",
    "    plt.setp(bp['boxes'], color=color)\n",
    "    plt.setp(bp['whiskers'], color=color)\n",
    "    plt.setp(bp['caps'], color=color)\n",
    "    plt.setp(bp['medians'], color=color)\n",
    "# Material design blue-500 and green-500\n",
    "colors = ['#1565C0', '#2E7D32']\n",
    "labels = ['First', 'Final']\n",
    "data_old = [times_success[name]['second'] / 1e6 for name in BENCHMARKS.keys()]\n",
    "data_new = [times_success[name]['new'] / 1e6 for name in BENCHMARKS.keys()]\n",
    "\n",
    "ticks = [v['label'] for v in BENCHMARKS.values()]\n",
    "\n",
    "bp_old = plt.boxplot(data_old, positions=np.array(range(len(data_old)))*2.0-0.4, sym='', widths=0.6)\n",
    "bp_new = plt.boxplot(data_new, positions=np.array(range(len(data_new)))*2.0+0.4, sym='', widths=0.6)\n",
    "set_box_color(bp_old, colors[0]) # colors are from http://colorbrewer2.org/\n",
    "set_box_color(bp_new, colors[1])\n",
    "\n",
    "# draw temporary red and blue lines and use them to create a legend\n",
    "plt.plot([], c=colors[0], label=labels[0])\n",
    "plt.plot([], c=colors[1], label=labels[1])\n",
    "plt.legend()\n",
    "\n",
    "# X-Axis\n",
    "plt.xticks(range(0, len(ticks) * 2, 2), ticks)\n",
    "plt.xlim(-2, len(ticks)*2)\n",
    "plt.xlabel('Dataset')\n",
    "\n",
    "plt.yscale('log')\n",
    "plt.ylabel('Conversion Time (seconds, log scale)')\n",
    "\n",
    "plt.tight_layout()\n",
    "plt.savefig(os.path.join(FIGURES_LOCATION, 'conversion-time.png'), dpi=300)"
   ]
  },
  {
   "cell_type": "code",
   "execution_count": null,
   "metadata": {},
   "outputs": [],
   "source": [
    "data_old = [times_success[name]['second'] / 1e6 for name in BENCHMARKS.keys()]\n",
    "data_new = [times_success[name]['new'] / 1e6 for name in BENCHMARKS.keys()]\n",
    "\n",
    "ticks = [v['label'] for v in BENCHMARKS.values()]\n",
    "\n",
    "data_old = [x['second']/x['new'] for x in total_times.values()]\n",
    "data_new = np.ones(len(ticks))\n",
    "\n",
    "\n",
    "x = np.arange(len(ticks))\n",
    "width = 0.8\n",
    "colors = ['#2196F3', '#4CAF50']\n",
    "fig, ax = plt.subplots()\n",
    "\n",
    "bar_old = ax.bar(x*2-0.4, data_new, width, color=colors[0])\n",
    "bar_new = ax.bar(x*2+0.4, data_old, width, color=colors[1])\n",
    "\n",
    "# Adapted from https://stackoverflow.com/a/42498711/8209335\n",
    "def label_speedup(rects, formatter):\n",
    "  for rect in rects:\n",
    "    height = rect.get_height()\n",
    "    ax.text(rect.get_x() + rect.get_width()/2., 0.05+height,\n",
    "      formatter(height),\n",
    "      ha='center', va='bottom')\n",
    "\n",
    "label_speedup(bar_old, lambda height: '%dx' % int(height))\n",
    "label_speedup(bar_new, lambda height: '%.2fx' % float(height))\n",
    "\n",
    "# draw temporary red and blue lines and use them to create a legend\n",
    "plt.plot([], c=colors[0], label=labels[0])\n",
    "plt.plot([], c=colors[1], label=labels[1])\n",
    "plt.legend(loc='upper left')\n",
    "\n",
    "# X-Axis\n",
    "plt.xticks(range(0, len(ticks) * 2, 2), ticks)\n",
    "plt.xlim(-2, len(ticks)*2)\n",
    "plt.xlabel('Dataset')\n",
    "\n",
    "plt.ylabel('Speedup')\n",
    "plt.ylim(0,5.5)\n",
    "\n",
    "plt.tight_layout()\n",
    "plt.savefig(os.path.join(FIGURES_LOCATION, 'conversion-time-comparison.png'), dpi=300)"
   ]
  },
  {
   "cell_type": "code",
   "execution_count": null,
   "metadata": {},
   "outputs": [],
   "source": [
    "# Results exploration, for debugging the results\n",
    "df = pd.DataFrame(results['under-1000k']['new'], columns=[\"input\", \"output\",\"time\",\"status\",\"error\"])\n",
    "subdf = df[(df.time < 50000) & (df.status == \"s\")]\n",
    "subdf"
   ]
  }
 ],
 "metadata": {
  "kernelspec": {
   "display_name": "Python 3.8.10 ('env-cf')",
   "language": "python",
   "name": "python3"
  },
  "language_info": {
   "codemirror_mode": {
    "name": "ipython",
    "version": 3
   },
   "file_extension": ".py",
   "mimetype": "text/x-python",
   "name": "python",
   "nbconvert_exporter": "python",
   "pygments_lexer": "ipython3",
   "version": "3.8.10"
  },
  "orig_nbformat": 4,
  "vscode": {
   "interpreter": {
    "hash": "4452fc612f183497624d7acf047d472642f0528c8bd68ee3f9dd18b786f419ef"
   }
  }
 },
 "nbformat": 4,
 "nbformat_minor": 2
}
